{
    "cells": [
        {
            "cell_type": "markdown",
            "metadata": {},
            "source": "## 1. Introduction"
        },
        {
            "cell_type": "markdown",
            "metadata": {},
            "source": "This report can help those who are planning to start a new business such as an international cuisine restaurant in Toronto city and need to find the best location for their shop."
        },
        {
            "cell_type": "markdown",
            "metadata": {},
            "source": "## 1.1 Background"
        },
        {
            "cell_type": "markdown",
            "metadata": {},
            "source": "The number of population increases due to newborns and migration. Therefore demands are increasing in every areas.Such as demands of restaurants.\n\nIn addition, people's preferences and needs change day by day. For this reason, new shopping malls, shops, restaurants etc. are set up every day all over the world.\n\nThe population of Toronto is increasing. New restaurants are needed in this city. There are also different restaurants, which include different cuisine in Toronto.\n\nEspecially the central districts of the Toronto are becoming more and more become a shining star.\n\nSince Toronto is a very important place, it attracts attention from very famous brands. Many famous brands want to be in Toronto. The entrepreneurs want to take advantage by having restaurants in the central of Toronto."
        },
        {
            "cell_type": "markdown",
            "metadata": {},
            "source": "## 1.2 Business Problem"
        },
        {
            "cell_type": "markdown",
            "metadata": {},
            "source": "Unfortunately, it is not possible to access all kinds of data. Even if it is reached, it may take years to make sense of them with today's technology. therefore, it is necessary to collect the important data and make realistic assumptions when necessary.\n\nAcceptances:\n\nRestaurant customers are located around the available restaurants. And it is appropriate to specify these clients in the make_blobs method with cluster_std = 0.003.\n\nSince it covers the world cuisines, it aspires to the customers of every available restaurant.\n\nSince the company wanted to open a place in the center, the information of the restaurants close to the center was used.\n\nIt is accepted that every restaurant has registered to the site where the data is received.\n\nSince the restaurant is a world brand, it covers the world food and is a competitive company, it will increase the probability of success, rather than escaping from the center. Therefore, I need to find where the customer cluster is most concentrated.\n\nThe problem is :If the client want to open an international luxury cuisine restaurant in Toronto city, which point is the best option to open the restaurant?"
        },
        {
            "cell_type": "markdown",
            "metadata": {},
            "source": "## "
        }
    ],
    "metadata": {
        "kernelspec": {
            "display_name": "Python 3.6",
            "language": "python",
            "name": "python3"
        },
        "language_info": {
            "codemirror_mode": {
                "name": "ipython",
                "version": 3
            },
            "file_extension": ".py",
            "mimetype": "text/x-python",
            "name": "python",
            "nbconvert_exporter": "python",
            "pygments_lexer": "ipython3",
            "version": "3.6.9"
        }
    },
    "nbformat": 4,
    "nbformat_minor": 1
}